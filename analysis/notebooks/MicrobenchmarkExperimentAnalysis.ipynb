{
 "cells": [
  {
   "cell_type": "markdown",
   "id": "47a99037",
   "metadata": {},
   "source": [
    "# Microbenchmark Experiment Analysis"
   ]
  },
  {
   "cell_type": "markdown",
   "id": "061eb471",
   "metadata": {},
   "source": [
    "## Notebook Configuration"
   ]
  },
  {
   "cell_type": "code",
   "execution_count": 5,
   "id": "729cf73b",
   "metadata": {},
   "outputs": [],
   "source": [
    "########## GENERAL\n",
    "# Experiment directory path\n",
    "EXPERIMENT_DIRPATH = \"BuzzBlogBenchmark_2021-10-02-01-39-32\"\n",
    "\n",
    "########## EXECUTION LOGS\n",
    "# Function to aggregate PIT data\n",
    "PIT_AGGREGATE_FUNC = \"mean\""
   ]
  },
  {
   "cell_type": "markdown",
   "id": "1022da8a",
   "metadata": {},
   "source": [
    "## Notebook Setup"
   ]
  },
  {
   "cell_type": "code",
   "execution_count": 6,
   "id": "ed3663d8",
   "metadata": {},
   "outputs": [],
   "source": [
    "# Import libraries\n",
    "%matplotlib inline\n",
    "import matplotlib.pyplot as plt\n",
    "import os\n",
    "import pandas as pd\n",
    "import tarfile\n",
    "import warnings\n",
    "import yaml\n",
    "warnings.filterwarnings(\"ignore\")"
   ]
  },
  {
   "cell_type": "markdown",
   "id": "specified-workstation",
   "metadata": {},
   "source": [
    "## Experiment Metadata"
   ]
  },
  {
   "cell_type": "code",
   "execution_count": 7,
   "id": "christian-contest",
   "metadata": {},
   "outputs": [],
   "source": [
    "########## UTILITIES\n",
    "def load_experiment_metadata():\n",
    "    \"Return a YAML object with experiment metadata.\"\n",
    "    with open(os.path.join(EXPERIMENT_DIRPATH, \"metadata.yml\")) as metadata_file:\n",
    "        return yaml.load(metadata_file, Loader=yaml.Loader)"
   ]
  },
  {
   "cell_type": "code",
   "execution_count": 8,
   "id": "grateful-hepatitis",
   "metadata": {},
   "outputs": [
    {
     "name": "stdout",
     "output_type": "stream",
     "text": [
      "description: My first BuzzBlog experiment.\n",
      "end_time: 2021-10-02-02-01-38\n",
      "start_time: 2021-10-02-01-39-32\n",
      "user: root\n",
      "\n"
     ]
    }
   ],
   "source": [
    "print(yaml.dump(load_experiment_metadata(), default_flow_style=False))"
   ]
  },
  {
   "cell_type": "markdown",
   "id": "159875d0",
   "metadata": {},
   "source": [
    "## Execution Logs"
   ]
  },
  {
   "cell_type": "code",
   "execution_count": 9,
   "id": "8819a576",
   "metadata": {},
   "outputs": [],
   "source": [
    "########## UTILITIES\n",
    "def get_microbenchmark_tarball_path():\n",
    "    \"Return the path to the microbenchmark tarball.\"\n",
    "    for node_hostname in os.listdir(os.path.join(EXPERIMENT_DIRPATH, \"logs\")):\n",
    "        for filename in os.listdir(os.path.join(EXPERIMENT_DIRPATH, \"logs\", node_hostname)):\n",
    "            if filename.endswith(\"_microbench.tar.gz\"):\n",
    "                return os.path.join(EXPERIMENT_DIRPATH, \"logs\", node_hostname, filename)\n",
    "\n",
    "def get_microbenchmarked_service():\n",
    "    \"Return the name of the microbenchmarked service\"\n",
    "    return get_microbenchmark_tarball_path().split(\"/\")[-1].split(\"_\")[0]\n",
    "            \n",
    "def list_microbenchmarks():\n",
    "    \"Return a list of microbenchmarks in the tarball.\"\n",
    "    tarball = tarfile.open(get_microbenchmark_tarball_path())\n",
    "    return [f.name.split(\".\")[-2].split(\"/\")[-1] for f in tarball if f.name.endswith(\".csv\")]\n",
    "\n",
    "def load_microbenchmark_logs(microbenchmark):\n",
    "    \"Return a DataFrame with execution logs of the specified microbenchmark.\"\n",
    "    tarball = tarfile.open(get_microbenchmark_tarball_path())\n",
    "    with tarball.extractfile(\"./microbench_%s/%s.csv\" % (get_microbenchmarked_service(), microbenchmark)) as microbenchmark_file:\n",
    "        df = pd.read_csv(microbenchmark_file)\n",
    "        return df"
   ]
  },
  {
   "cell_type": "markdown",
   "id": "45129a99",
   "metadata": {},
   "source": [
    "### Throughput"
   ]
  },
  {
   "cell_type": "code",
   "execution_count": 10,
   "id": "7bdf6e71",
   "metadata": {},
   "outputs": [
    {
     "ename": "ValueError",
     "evalue": "nothing to open",
     "output_type": "error",
     "traceback": [
      "\u001b[1;31m---------------------------------------------------------------------------\u001b[0m",
      "\u001b[1;31mValueError\u001b[0m                                Traceback (most recent call last)",
      "\u001b[1;32m<ipython-input-10-50fba7a125e5>\u001b[0m in \u001b[0;36m<module>\u001b[1;34m\u001b[0m\n\u001b[1;32m----> 1\u001b[1;33m \u001b[0mmicrobenchmarks\u001b[0m \u001b[1;33m=\u001b[0m \u001b[0mlist_microbenchmarks\u001b[0m\u001b[1;33m(\u001b[0m\u001b[1;33m)\u001b[0m\u001b[1;33m\u001b[0m\u001b[1;33m\u001b[0m\u001b[0m\n\u001b[0m\u001b[0;32m      2\u001b[0m \u001b[0mfig\u001b[0m \u001b[1;33m=\u001b[0m \u001b[0mplt\u001b[0m\u001b[1;33m.\u001b[0m\u001b[0mfigure\u001b[0m\u001b[1;33m(\u001b[0m\u001b[0mfigsize\u001b[0m\u001b[1;33m=\u001b[0m\u001b[1;33m(\u001b[0m\u001b[1;36m16\u001b[0m \u001b[1;33m*\u001b[0m \u001b[0mlen\u001b[0m\u001b[1;33m(\u001b[0m\u001b[0mmicrobenchmarks\u001b[0m\u001b[1;33m)\u001b[0m\u001b[1;33m,\u001b[0m \u001b[1;36m32\u001b[0m \u001b[1;33m*\u001b[0m \u001b[0mlen\u001b[0m\u001b[1;33m(\u001b[0m\u001b[0mmicrobenchmarks\u001b[0m\u001b[1;33m)\u001b[0m\u001b[1;33m)\u001b[0m\u001b[1;33m)\u001b[0m\u001b[1;33m\u001b[0m\u001b[1;33m\u001b[0m\u001b[0m\n\u001b[0;32m      3\u001b[0m \u001b[1;32mfor\u001b[0m \u001b[1;33m(\u001b[0m\u001b[0mi\u001b[0m\u001b[1;33m,\u001b[0m \u001b[0mmicrobenchmark\u001b[0m\u001b[1;33m)\u001b[0m \u001b[1;32min\u001b[0m \u001b[0menumerate\u001b[0m\u001b[1;33m(\u001b[0m\u001b[0mmicrobenchmarks\u001b[0m\u001b[1;33m)\u001b[0m\u001b[1;33m:\u001b[0m\u001b[1;33m\u001b[0m\u001b[1;33m\u001b[0m\u001b[0m\n\u001b[0;32m      4\u001b[0m     \u001b[0mdf\u001b[0m \u001b[1;33m=\u001b[0m \u001b[0mload_microbenchmark_logs\u001b[0m\u001b[1;33m(\u001b[0m\u001b[0mmicrobenchmark\u001b[0m\u001b[1;33m)\u001b[0m\u001b[1;33m\u001b[0m\u001b[1;33m\u001b[0m\u001b[0m\n\u001b[0;32m      5\u001b[0m     \u001b[0mdf\u001b[0m\u001b[1;33m[\u001b[0m\u001b[1;34m\"window\"\u001b[0m\u001b[1;33m]\u001b[0m \u001b[1;33m=\u001b[0m \u001b[0mdf\u001b[0m\u001b[1;33m.\u001b[0m\u001b[0mapply\u001b[0m\u001b[1;33m(\u001b[0m\u001b[1;32mlambda\u001b[0m \u001b[0mr\u001b[0m\u001b[1;33m:\u001b[0m \u001b[0mint\u001b[0m\u001b[1;33m(\u001b[0m\u001b[0mr\u001b[0m\u001b[1;33m[\u001b[0m\u001b[1;34m\"timestamp_milli\"\u001b[0m\u001b[1;33m]\u001b[0m \u001b[1;33m/\u001b[0m \u001b[1;36m1000\u001b[0m\u001b[1;33m)\u001b[0m\u001b[1;33m,\u001b[0m \u001b[0maxis\u001b[0m\u001b[1;33m=\u001b[0m\u001b[1;36m1\u001b[0m\u001b[1;33m)\u001b[0m\u001b[1;33m\u001b[0m\u001b[1;33m\u001b[0m\u001b[0m\n",
      "\u001b[1;32m<ipython-input-9-b4ab48ae0510>\u001b[0m in \u001b[0;36mlist_microbenchmarks\u001b[1;34m()\u001b[0m\n\u001b[0;32m     13\u001b[0m \u001b[1;32mdef\u001b[0m \u001b[0mlist_microbenchmarks\u001b[0m\u001b[1;33m(\u001b[0m\u001b[1;33m)\u001b[0m\u001b[1;33m:\u001b[0m\u001b[1;33m\u001b[0m\u001b[1;33m\u001b[0m\u001b[0m\n\u001b[0;32m     14\u001b[0m     \u001b[1;34m\"Return a list of microbenchmarks in the tarball.\"\u001b[0m\u001b[1;33m\u001b[0m\u001b[1;33m\u001b[0m\u001b[0m\n\u001b[1;32m---> 15\u001b[1;33m     \u001b[0mtarball\u001b[0m \u001b[1;33m=\u001b[0m \u001b[0mtarfile\u001b[0m\u001b[1;33m.\u001b[0m\u001b[0mopen\u001b[0m\u001b[1;33m(\u001b[0m\u001b[0mget_microbenchmark_tarball_path\u001b[0m\u001b[1;33m(\u001b[0m\u001b[1;33m)\u001b[0m\u001b[1;33m)\u001b[0m\u001b[1;33m\u001b[0m\u001b[1;33m\u001b[0m\u001b[0m\n\u001b[0m\u001b[0;32m     16\u001b[0m     \u001b[1;32mreturn\u001b[0m \u001b[1;33m[\u001b[0m\u001b[0mf\u001b[0m\u001b[1;33m.\u001b[0m\u001b[0mname\u001b[0m\u001b[1;33m.\u001b[0m\u001b[0msplit\u001b[0m\u001b[1;33m(\u001b[0m\u001b[1;34m\".\"\u001b[0m\u001b[1;33m)\u001b[0m\u001b[1;33m[\u001b[0m\u001b[1;33m-\u001b[0m\u001b[1;36m2\u001b[0m\u001b[1;33m]\u001b[0m\u001b[1;33m.\u001b[0m\u001b[0msplit\u001b[0m\u001b[1;33m(\u001b[0m\u001b[1;34m\"/\"\u001b[0m\u001b[1;33m)\u001b[0m\u001b[1;33m[\u001b[0m\u001b[1;33m-\u001b[0m\u001b[1;36m1\u001b[0m\u001b[1;33m]\u001b[0m \u001b[1;32mfor\u001b[0m \u001b[0mf\u001b[0m \u001b[1;32min\u001b[0m \u001b[0mtarball\u001b[0m \u001b[1;32mif\u001b[0m \u001b[0mf\u001b[0m\u001b[1;33m.\u001b[0m\u001b[0mname\u001b[0m\u001b[1;33m.\u001b[0m\u001b[0mendswith\u001b[0m\u001b[1;33m(\u001b[0m\u001b[1;34m\".csv\"\u001b[0m\u001b[1;33m)\u001b[0m\u001b[1;33m]\u001b[0m\u001b[1;33m\u001b[0m\u001b[1;33m\u001b[0m\u001b[0m\n\u001b[0;32m     17\u001b[0m \u001b[1;33m\u001b[0m\u001b[0m\n",
      "\u001b[1;32m~\\AppData\\Local\\Programs\\Python\\Python39\\lib\\tarfile.py\u001b[0m in \u001b[0;36mopen\u001b[1;34m(cls, name, mode, fileobj, bufsize, **kwargs)\u001b[0m\n\u001b[0;32m   1598\u001b[0m \u001b[1;33m\u001b[0m\u001b[0m\n\u001b[0;32m   1599\u001b[0m         \u001b[1;32mif\u001b[0m \u001b[1;32mnot\u001b[0m \u001b[0mname\u001b[0m \u001b[1;32mand\u001b[0m \u001b[1;32mnot\u001b[0m \u001b[0mfileobj\u001b[0m\u001b[1;33m:\u001b[0m\u001b[1;33m\u001b[0m\u001b[1;33m\u001b[0m\u001b[0m\n\u001b[1;32m-> 1600\u001b[1;33m             \u001b[1;32mraise\u001b[0m \u001b[0mValueError\u001b[0m\u001b[1;33m(\u001b[0m\u001b[1;34m\"nothing to open\"\u001b[0m\u001b[1;33m)\u001b[0m\u001b[1;33m\u001b[0m\u001b[1;33m\u001b[0m\u001b[0m\n\u001b[0m\u001b[0;32m   1601\u001b[0m \u001b[1;33m\u001b[0m\u001b[0m\n\u001b[0;32m   1602\u001b[0m         \u001b[1;32mif\u001b[0m \u001b[0mmode\u001b[0m \u001b[1;32min\u001b[0m \u001b[1;33m(\u001b[0m\u001b[1;34m\"r\"\u001b[0m\u001b[1;33m,\u001b[0m \u001b[1;34m\"r:*\"\u001b[0m\u001b[1;33m)\u001b[0m\u001b[1;33m:\u001b[0m\u001b[1;33m\u001b[0m\u001b[1;33m\u001b[0m\u001b[0m\n",
      "\u001b[1;31mValueError\u001b[0m: nothing to open"
     ]
    }
   ],
   "source": [
    "microbenchmarks = list_microbenchmarks()\n",
    "fig = plt.figure(figsize=(16 * len(microbenchmarks), 32 * len(microbenchmarks)))\n",
    "for (i, microbenchmark) in enumerate(microbenchmarks):\n",
    "    df = load_microbenchmark_logs(microbenchmark)\n",
    "    df[\"window\"] = df.apply(lambda r: int(r[\"timestamp_milli\"] / 1000), axis=1)\n",
    "    df = df.groupby([\"window\"])[\"window\"].count()\n",
    "    df = df.reindex(range(0, int(df.index.max()) + 1), fill_value=0)\n",
    "    ax = fig.add_subplot(len(microbenchmarks), 1, i + 1)\n",
    "    ax.grid(alpha=0.75)\n",
    "    df.plot(ax=ax, kind=\"bar\", title=\"Throughput: %s microbenchmark\" % microbenchmark,\n",
    "            xlabel=\"Time (seconds)\", ylabel=\"Calls per second\",\n",
    "            color=\"blue\", grid=True, xticks=range(0, int(df.index.max()) + 1, 10))"
   ]
  },
  {
   "cell_type": "markdown",
   "id": "8af71c46",
   "metadata": {},
   "source": [
    "### Point-in-Time Execution Time"
   ]
  },
  {
   "cell_type": "code",
   "execution_count": null,
   "id": "75722c99",
   "metadata": {},
   "outputs": [],
   "source": [
    "microbenchmarks = list_microbenchmarks()\n",
    "fig = plt.figure(figsize=(16 * len(microbenchmarks), 32 * len(microbenchmarks)))\n",
    "for (i, microbenchmark) in enumerate(microbenchmarks):\n",
    "    df = load_microbenchmark_logs(microbenchmark)\n",
    "    df[\"window\"] = df.apply(lambda r: int(r[\"timestamp_milli\"] / 1000), axis=1)\n",
    "    df = df.groupby([\"window\"])[\"exec_time_milli\"].agg(PIT_AGGREGATE_FUNC)\n",
    "    df = df.reindex(range(0, int(df.index.max()) + 1), fill_value=0)\n",
    "    ax = fig.add_subplot(len(microbenchmarks), 1, i + 1)\n",
    "    ax.grid(alpha=0.75)\n",
    "    df.plot(ax=ax, kind=\"bar\", title=\"PIT Execution Time: %s microbenchmark\" % microbenchmark,\n",
    "            xlabel=\"Time (seconds)\", ylabel=\"%s Execution Time (milliseconds)\" % PIT_AGGREGATE_FUNC,\n",
    "            color=\"purple\", grid=True, xticks=range(0, int(df.index.max()) + 1, 60))"
   ]
  },
  {
   "cell_type": "markdown",
   "id": "c522a91f",
   "metadata": {},
   "source": [
    "### Execution Time Distribution"
   ]
  },
  {
   "cell_type": "code",
   "execution_count": null,
   "id": "0477ec4c",
   "metadata": {},
   "outputs": [],
   "source": [
    "microbenchmarks = list_microbenchmarks()\n",
    "fig = plt.figure(figsize=(16 * len(microbenchmarks), 32 * len(microbenchmarks)))\n",
    "for (i, microbenchmark) in enumerate(microbenchmarks):\n",
    "    df = load_microbenchmark_logs(microbenchmark)\n",
    "    df[\"exec_time_bin\"] = df.apply(lambda r: int(r[\"exec_time_milli\"]), axis=1)\n",
    "    ax = fig.add_subplot(len(microbenchmarks), 1, i + 1)\n",
    "    ax.grid(alpha=0.75)\n",
    "    ax.set_yscale(\"log\")\n",
    "    ax.set_xlim((0, df[\"exec_time_bin\"].max()))\n",
    "    df[\"exec_time_bin\"].plot(ax=ax, kind=\"hist\",\n",
    "                             title=\"Execution Time Distribution: %s microbenchmark\" % microbenchmark,\n",
    "                             xlabel=\"Execution Time (milliseconds)\", ylabel=\"Count\",\n",
    "                             bins=range(df[\"exec_time_bin\"].max()),\n",
    "                             grid=True, color=\"green\")"
   ]
  },
  {
   "cell_type": "markdown",
   "id": "tracked-dispute",
   "metadata": {},
   "source": [
    "## Experiment Configuration"
   ]
  },
  {
   "cell_type": "code",
   "execution_count": null,
   "id": "forward-finding",
   "metadata": {},
   "outputs": [],
   "source": [
    "########## UTILITIES\n",
    "def load_system_conf():\n",
    "    \"Return a YAML object with system configuration.\"\n",
    "    with open(os.path.join(EXPERIMENT_DIRPATH, \"conf\", \"system.yml\")) as system_conf_file:\n",
    "        return yaml.load(system_conf_file, Loader=yaml.Loader)"
   ]
  },
  {
   "cell_type": "markdown",
   "id": "instant-retirement",
   "metadata": {},
   "source": [
    "### System Configuration File"
   ]
  },
  {
   "cell_type": "code",
   "execution_count": null,
   "id": "injured-kuwait",
   "metadata": {},
   "outputs": [],
   "source": [
    "print(yaml.dump(load_system_conf()))"
   ]
  }
 ],
 "metadata": {
  "kernelspec": {
   "display_name": "Python 3",
   "language": "python",
   "name": "python3"
  },
  "language_info": {
   "codemirror_mode": {
    "name": "ipython",
    "version": 3
   },
   "file_extension": ".py",
   "mimetype": "text/x-python",
   "name": "python",
   "nbconvert_exporter": "python",
   "pygments_lexer": "ipython3",
   "version": "3.9.7"
  }
 },
 "nbformat": 4,
 "nbformat_minor": 5
}
